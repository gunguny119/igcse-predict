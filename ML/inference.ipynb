{
  "cells": [
    {
      "cell_type": "code",
      "execution_count": 4,
      "metadata": {
        "colab": {
          "base_uri": "https://localhost:8080/"
        },
        "id": "wOSjFnOoMbFv",
        "outputId": "4cb32d74-1d21-4ce8-e370-d3a0e5e7478c"
      },
      "outputs": [
        {
          "name": "stdout",
          "output_type": "stream",
          "text": [
            "Looking in indexes: https://pypi.org/simple, https://us-python.pkg.dev/colab-wheels/public/simple/\n",
            "Collecting transformers\n",
            "  Downloading transformers-4.21.0-py3-none-any.whl (4.7 MB)\n",
            "\u001b[K     |████████████████████████████████| 4.7 MB 12.5 MB/s \n",
            "\u001b[?25hRequirement already satisfied: regex!=2019.12.17 in /usr/local/lib/python3.7/dist-packages (from transformers) (2022.6.2)\n",
            "Requirement already satisfied: importlib-metadata in /usr/local/lib/python3.7/dist-packages (from transformers) (4.12.0)\n",
            "Requirement already satisfied: packaging>=20.0 in /usr/local/lib/python3.7/dist-packages (from transformers) (21.3)\n",
            "Requirement already satisfied: numpy>=1.17 in /usr/local/lib/python3.7/dist-packages (from transformers) (1.21.6)\n",
            "Collecting tokenizers!=0.11.3,<0.13,>=0.11.1\n",
            "  Downloading tokenizers-0.12.1-cp37-cp37m-manylinux_2_12_x86_64.manylinux2010_x86_64.whl (6.6 MB)\n",
            "\u001b[K     |████████████████████████████████| 6.6 MB 38.8 MB/s \n",
            "\u001b[?25hCollecting pyyaml>=5.1\n",
            "  Downloading PyYAML-6.0-cp37-cp37m-manylinux_2_5_x86_64.manylinux1_x86_64.manylinux_2_12_x86_64.manylinux2010_x86_64.whl (596 kB)\n",
            "\u001b[K     |████████████████████████████████| 596 kB 62.0 MB/s \n",
            "\u001b[?25hRequirement already satisfied: filelock in /usr/local/lib/python3.7/dist-packages (from transformers) (3.7.1)\n",
            "Requirement already satisfied: tqdm>=4.27 in /usr/local/lib/python3.7/dist-packages (from transformers) (4.64.0)\n",
            "Requirement already satisfied: requests in /usr/local/lib/python3.7/dist-packages (from transformers) (2.23.0)\n",
            "Collecting huggingface-hub<1.0,>=0.1.0\n",
            "  Downloading huggingface_hub-0.8.1-py3-none-any.whl (101 kB)\n",
            "\u001b[K     |████████████████████████████████| 101 kB 5.8 MB/s \n",
            "\u001b[?25hRequirement already satisfied: typing-extensions>=3.7.4.3 in /usr/local/lib/python3.7/dist-packages (from huggingface-hub<1.0,>=0.1.0->transformers) (4.1.1)\n",
            "Requirement already satisfied: pyparsing!=3.0.5,>=2.0.2 in /usr/local/lib/python3.7/dist-packages (from packaging>=20.0->transformers) (3.0.9)\n",
            "Requirement already satisfied: zipp>=0.5 in /usr/local/lib/python3.7/dist-packages (from importlib-metadata->transformers) (3.8.1)\n",
            "Requirement already satisfied: chardet<4,>=3.0.2 in /usr/local/lib/python3.7/dist-packages (from requests->transformers) (3.0.4)\n",
            "Requirement already satisfied: certifi>=2017.4.17 in /usr/local/lib/python3.7/dist-packages (from requests->transformers) (2022.6.15)\n",
            "Requirement already satisfied: urllib3!=1.25.0,!=1.25.1,<1.26,>=1.21.1 in /usr/local/lib/python3.7/dist-packages (from requests->transformers) (1.24.3)\n",
            "Requirement already satisfied: idna<3,>=2.5 in /usr/local/lib/python3.7/dist-packages (from requests->transformers) (2.10)\n",
            "Installing collected packages: pyyaml, tokenizers, huggingface-hub, transformers\n",
            "  Attempting uninstall: pyyaml\n",
            "    Found existing installation: PyYAML 3.13\n",
            "    Uninstalling PyYAML-3.13:\n",
            "      Successfully uninstalled PyYAML-3.13\n",
            "Successfully installed huggingface-hub-0.8.1 pyyaml-6.0 tokenizers-0.12.1 transformers-4.21.0\n"
          ]
        }
      ],
      "source": [
        "!pip install transformers"
      ]
    },
    {
      "cell_type": "code",
      "execution_count": 5,
      "metadata": {
        "colab": {
          "base_uri": "https://localhost:8080/"
        },
        "id": "dwVtArR_MkN2",
        "outputId": "5d6e4631-f289-4e01-8511-5e8ffb8380af"
      },
      "outputs": [
        {
          "name": "stdout",
          "output_type": "stream",
          "text": [
            "Mounted at /content/drive\n"
          ]
        }
      ],
      "source": [
        "from google.colab import drive\n",
        "drive.mount('/content/drive')"
      ]
    },
    {
      "cell_type": "markdown",
      "metadata": {
        "id": "vtniDRFgMYR4"
      },
      "source": [
        "## Definitions"
      ]
    },
    {
      "cell_type": "code",
      "execution_count": 6,
      "metadata": {
        "id": "q-RHnzskMYR5"
      },
      "outputs": [],
      "source": [
        "from torch.utils.data import Dataset, DataLoader\n",
        "from transformers import BertTokenizer\n",
        "import pandas as pd\n",
        "\n",
        "class TextDataset(Dataset):\n",
        "    def __init__(self, df, max_length=128):\n",
        "        # 2. make the qa column\n",
        "        self.text_list = df['text'].values.tolist()\n",
        "        self.tokenizer = BertTokenizer.from_pretrained('bert-base-uncased')\n",
        "        self.max_length = max_length\n",
        "\n",
        "    def __len__(self):\n",
        "        return len(self.text_list)\n",
        "\n",
        "\n",
        "    def __getitem__(self, idx):\n",
        "        \"\"\"\n",
        "        1. get text at index idx from self.text_list\n",
        "        2. tokenizer & encode this text\n",
        "        3. return this along with the label at index idx \n",
        "        \"\"\"\n",
        "        text = self.text_list[idx]\n",
        "        encoded_inputs = self.tokenizer(text, padding='max_length', truncation=True, max_length=self.max_length, return_tensors='pt')\n",
        "        encoded_inputs = {k: v.squeeze(0) for k, v in encoded_inputs.items()}\n",
        "        return encoded_inputs\n",
        "        \n",
        "        "
      ]
    },
    {
      "cell_type": "code",
      "execution_count": 7,
      "metadata": {
        "id": "SZcN4eC3MYR5"
      },
      "outputs": [],
      "source": [
        "import torch\n",
        "from torch import nn\n",
        "from transformers import BertModel\n",
        "\n",
        "\n",
        "class MyModel(nn.Module):\n",
        "    def __init__(self, out_dim):\n",
        "        super().__init__()\n",
        "        self.bert = BertModel.from_pretrained('bert-base-uncased')\n",
        "\n",
        "        self.layer1 = nn.Linear(768, out_dim)\n",
        "\n",
        "    def forward(self, input_ids, attention_mask):\n",
        "        output = self.bert(input_ids=input_ids, attention_mask=attention_mask)\n",
        "        sentence_emb = output['last_hidden_state'][:, 0, :]  # [batch size, num hidden dim]\n",
        "\n",
        "        return self.layer1(sentence_emb)"
      ]
    },
    {
      "cell_type": "code",
      "execution_count": 12,
      "metadata": {
        "id": "LqNjWfY4MYR5"
      },
      "outputs": [],
      "source": [
        "import numpy as np\n",
        "import pandas as pd\n",
        "\n",
        "\n",
        "@torch.no_grad()\n",
        "def infer(model, loader, threshold=None):\n",
        "    probs = []\n",
        "    confidences = []\n",
        "    for x in loader:\n",
        "        x = {k: v.to('cuda') for k, v in x.items()}\n",
        "        h = torch.softmax(model(x['input_ids'], x['attention_mask']), -1)\n",
        "\n",
        "      \n",
        "        confidence = h.max(-1)[0]\n",
        "        \n",
        "\n",
        "        probs.append(h.cpu().detach().numpy())\n",
        "        confidences.append(confidence.cpu().detach().numpy())\n",
        "\n",
        "    probs = np.concatenate(probs, 0)\n",
        "    confidences = np.concatenate(confidences,0)\n",
        "\n",
        "    preds = np.argmax(probs, 1)\n",
        "\n",
        "    if threshold is not None:\n",
        "        confidences = confidences >= threshold\n",
        "    \n",
        "    return preds, confidences\n",
        "\n",
        "\n",
        "def topic_inference(model, data_path, topic_list, threshold = None):\n",
        "    df = pd.read_csv(data_path)\n",
        "\n",
        "    if 'topic' in df:\n",
        "        index = (~df['text'].isna() & df['topic'].isna())\n",
        "    else:\n",
        "        index = ~df['text'].isna()\n",
        "    infer_df = df[index]\n",
        "    \n",
        "    # load dataloader\n",
        "    dataset = TextDataset(infer_df)\n",
        "    dataloader = DataLoader(dataset, batch_size=64)\n",
        "    \n",
        "    preds, confidence_index = infer(model, dataloader, threshold = threshold)\n",
        "    \n",
        "    topic_preds = []\n",
        "    count = 0\n",
        "    for i,p in enumerate(preds):\n",
        "        if confidence_index[i]:\n",
        "            topic_preds.append(topic_list[p])\n",
        "            count += 1\n",
        "        else:\n",
        "            topic_preds.append('')\n",
        "\n",
        "\n",
        "    df.loc[index,'topic'] = topic_preds\n",
        "    print(f\"inferred {count} topics using threshold {threshold}\")\n",
        "\n",
        "    return df"
      ]
    },
    {
      "cell_type": "markdown",
      "metadata": {
        "id": "Mx8QzoEIMYR5"
      },
      "source": [
        "## Run"
      ]
    },
    {
      "cell_type": "code",
      "execution_count": 16,
      "metadata": {
        "colab": {
          "base_uri": "https://localhost:8080/"
        },
        "id": "bZGmar4nMYR6",
        "outputId": "2c643b66-3716-44cd-dffc-20a5cf5fcb01"
      },
      "outputs": [
        {
          "name": "stderr",
          "output_type": "stream",
          "text": [
            "Some weights of the model checkpoint at bert-base-uncased were not used when initializing BertModel: ['cls.seq_relationship.bias', 'cls.predictions.transform.LayerNorm.weight', 'cls.predictions.transform.LayerNorm.bias', 'cls.predictions.transform.dense.weight', 'cls.predictions.bias', 'cls.predictions.transform.dense.bias', 'cls.predictions.decoder.weight', 'cls.seq_relationship.weight']\n",
            "- This IS expected if you are initializing BertModel from the checkpoint of a model trained on another task or with another architecture (e.g. initializing a BertForSequenceClassification model from a BertForPreTraining model).\n",
            "- This IS NOT expected if you are initializing BertModel from the checkpoint of a model that you expect to be exactly identical (initializing a BertForSequenceClassification model from a BertForSequenceClassification model).\n"
          ]
        },
        {
          "name": "stdout",
          "output_type": "stream",
          "text": [
            "inferred 347 topics using threshold 0.8\n"
          ]
        }
      ],
      "source": [
        "topic_list = [\n",
        "        \"1 The particulate nature of matter\",\n",
        "        \"2 Experimental techniques\",\n",
        "        \"3 Atoms, elements and compounds\",\n",
        "        \"4 Stoichiometry\",\n",
        "        \"5 Electricity and chemistry\",\n",
        "        \"6 Chemical energetics\",\n",
        "        \"7 Chemical reactions\",\n",
        "        \"8 Acids, bases and salts\",\n",
        "        \"9 The Periodic Table\",\n",
        "        \"10 Metals\",\n",
        "        \"11 Air and water\",\n",
        "        \"12 Sulfur\",\n",
        "        \"13 Carbonates\",\n",
        "        \"14 Organic chemistry\",\n",
        "      ]\n",
        "subject = 'chemistry'\n",
        "out_dim = 14\n",
        "\n",
        "model = MyModel(out_dim)\n",
        "model = model.to('cuda')\n",
        "\n",
        "model_path = f'/content/drive/MyDrive/models/{subject}_best.pth'\n",
        "data_path = 'all_data.csv'\n",
        "\n",
        "model.load_state_dict(torch.load(model_path))\n",
        "\n",
        "df = topic_inference(model, data_path, topic_list, threshold=0.8)\n",
        "\n",
        "df.to_csv('all_data_labeled.csv')"
      ]
    },
    {
      "cell_type": "code",
      "execution_count": null,
      "metadata": {
        "id": "aH3qUIv9NHhu"
      },
      "outputs": [],
      "source": []
    }
  ],
  "metadata": {
    "accelerator": "GPU",
    "colab": {
      "name": "inference.ipynb",
      "provenance": []
    },
    "gpuClass": "standard",
    "kernelspec": {
      "display_name": "Python 3.9.10 ('tf-m1')",
      "language": "python",
      "name": "python3"
    },
    "language_info": {
      "name": "python",
      "version": "3.9.10"
    },
    "orig_nbformat": 4,
    "vscode": {
      "interpreter": {
        "hash": "e79170ae290057d802c0bc8323610d82df653b25ece5c46593757efbea4a04e3"
      }
    }
  },
  "nbformat": 4,
  "nbformat_minor": 0
}
