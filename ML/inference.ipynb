{
 "cells": [
  {
   "cell_type": "markdown",
   "metadata": {},
   "source": [
    "## Definitions"
   ]
  },
  {
   "cell_type": "code",
   "execution_count": null,
   "metadata": {},
   "outputs": [],
   "source": [
    "from torch.utils.data import Dataset, DataLoader\n",
    "from transformers import BertTokenizer\n",
    "import pandas as pd\n",
    "\n",
    "class TextDataset(Dataset):\n",
    "    def __init__(self, df, max_length=128):\n",
    "        # 2. make the qa column\n",
    "        self.text_list = df['text'].values.tolist()\n",
    "        self.tokenizer = BertTokenizer.from_pretrained('bert-base-uncased')\n",
    "        self.max_length = max_length\n",
    "\n",
    "    def __len__(self):\n",
    "        return len(self.text_list)\n",
    "\n",
    "\n",
    "    def __getitem__(self, idx):\n",
    "        \"\"\"\n",
    "        1. get text at index idx from self.text_list\n",
    "        2. tokenizer & encode this text\n",
    "        3. return this along with the label at index idx \n",
    "        \"\"\"\n",
    "        text = self.text_list[idx]\n",
    "        encoded_inputs = self.tokenizer(text, padding='max_length', truncation=True, max_length=self.max_length, return_tensors='pt')\n",
    "        encoded_inputs = {k: v.squeeze(0) for k, v in encoded_inputs.items()}\n",
    "        return encoded_inputs\n",
    "        \n",
    "        "
   ]
  },
  {
   "cell_type": "code",
   "execution_count": null,
   "metadata": {},
   "outputs": [],
   "source": [
    "import torch\n",
    "from torch import nn\n",
    "from transformers import BertModel\n",
    "\n",
    "\n",
    "class MyModel(nn.Module):\n",
    "    def __init__(self, out_dim):\n",
    "        super().__init__()\n",
    "        self.bert = BertModel.from_pretrained('bert-base-uncased')\n",
    "\n",
    "        self.layer1 = nn.Linear(768, out_dim)\n",
    "\n",
    "    def forward(self, input_ids, attention_mask):\n",
    "        output = self.bert(input_ids=input_ids, attention_mask=attention_mask)\n",
    "        sentence_emb = output['last_hidden_state'][:, 0, :]  # [batch size, num hidden dim]\n",
    "\n",
    "        return self.layer1(sentence_emb)"
   ]
  },
  {
   "cell_type": "code",
   "execution_count": null,
   "metadata": {},
   "outputs": [],
   "source": [
    "import numpy as np\n",
    "import pandas as pd\n",
    "\n",
    "\n",
    "@torch.no_grad()\n",
    "def infer(model, loader, threshold=None):\n",
    "    probs = []\n",
    "    confidences = []\n",
    "    for x in loader:\n",
    "        x = {k: v.to('cuda') for k, v in x.items()}\n",
    "        h = torch.softmax(model(x['input_ids'], x['attention_mask']), -1)\n",
    "\n",
    "      \n",
    "        confidence = h.max(-1)[0]\n",
    "        \n",
    "\n",
    "        probs.append(h.cpu().detach().numpy())\n",
    "        confidence.append(confidences.cpu().detach().numpy())\n",
    "\n",
    "    probs = np.concatenate(probs, 0)\n",
    "    confidences = np.concatenate(confidences,0)\n",
    "\n",
    "    preds = np.argmax(probs, 1)\n",
    "\n",
    "    if threshold is not None:\n",
    "        confidences = confidences >= threshold\n",
    "    \n",
    "    return preds, confidences\n",
    "\n",
    "\n",
    "def topic_inference(model, data_path, threshold = None):\n",
    "    df = pd.read_csv(data_path)\n",
    "\n",
    "    index = (~df['text'].isna() & df['topic'].isna())\n",
    "    infer_df = df[index]\n",
    "    \n",
    "    # load dataloader\n",
    "    dataset = TextDataset(infer_df)\n",
    "    dataloader = DataLoader(dataset, batch_size=64)\n",
    "    \n",
    "    preds, confidence_index = infer(model, dataloader, threshold = threshold)\n",
    "    topic_list = [\n",
    "        \"1 The particulate nature of matter\",\n",
    "        \"2 Experimental techniques\",\n",
    "        \"3 Atoms, elements and compounds\",\n",
    "        \"4 Stoichiometry\",\n",
    "        \"5 Electricity and chemistry\",\n",
    "        \"6 Chemical energetics\",\n",
    "        \"7 Chemical reactions\",\n",
    "        \"8 Acids, bases and salts\",\n",
    "        \"9 The Periodic Table\",\n",
    "        \"10 Metals\",\n",
    "        \"11 Air and water\",\n",
    "        \"12 Sulfur\",\n",
    "        \"13 Carbonates\",\n",
    "        \"14 Organic chemistry\",\n",
    "      ]\n",
    "    \n",
    "    topic_preds = []\n",
    "    for i,p in enumerate(preds):\n",
    "        if confidence_index[i]:\n",
    "            topic_preds.append(topic_list[p])\n",
    "        else:\n",
    "            topic_preds.append('')\n",
    "\n",
    "\n",
    "    df.loc[index,'topic'] = topic_preds\n",
    "\n",
    "    return df"
   ]
  },
  {
   "cell_type": "markdown",
   "metadata": {},
   "source": [
    "## Run"
   ]
  },
  {
   "cell_type": "code",
   "execution_count": null,
   "metadata": {},
   "outputs": [],
   "source": [
    "model = MyModel(14)\n",
    "\n",
    "model_path = '/content/drive/MyDrive/models/best.pth'\n",
    "data_path = 'all_data.csv'\n",
    "\n",
    "model.load_state_dict(torch.load(model_path))\n",
    "\n",
    "df = topic_inference(model, data_path)\n",
    "\n",
    "df.to_csv(data_path)"
   ]
  }
 ],
 "metadata": {
  "kernelspec": {
   "display_name": "Python 3.9.10 ('tf-m1')",
   "language": "python",
   "name": "python3"
  },
  "language_info": {
   "name": "python",
   "version": "3.9.10"
  },
  "orig_nbformat": 4,
  "vscode": {
   "interpreter": {
    "hash": "e79170ae290057d802c0bc8323610d82df653b25ece5c46593757efbea4a04e3"
   }
  }
 },
 "nbformat": 4,
 "nbformat_minor": 2
}
