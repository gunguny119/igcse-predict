{
 "cells": [
  {
   "cell_type": "markdown",
   "metadata": {},
   "source": [
    "## Definitions"
   ]
  },
  {
   "cell_type": "code",
   "execution_count": null,
   "metadata": {},
   "outputs": [],
   "source": [
    "from torch.utils.data import Dataset, DataLoader\n",
    "from transformers import BertTokenizer\n",
    "import pandas as pd\n",
    "\n",
    "class TextDataset(Dataset):\n",
    "    def __init__(self, df, max_length=128):\n",
    "        # 2. make the qa column\n",
    "        df['qa'] = df['text']\n",
    "        self.text_list = df['qa'].values.tolist()\n",
    "        self.tokenizer = BertTokenizer.from_pretrained('bert-base-uncased')\n",
    "        self.max_length = max_length\n",
    "\n",
    "    def __len__(self):\n",
    "        return len(self.text_list)\n",
    "\n",
    "\n",
    "    def __getitem__(self, idx):\n",
    "        \"\"\"\n",
    "        1. get text at index idx from self.text_list\n",
    "        2. tokenizer & encode this text\n",
    "        3. return this along with the label at index idx \n",
    "        \"\"\"\n",
    "        text = self.text_list[idx]\n",
    "        encoded_inputs = self.tokenizer(text, padding='max_length', truncation=True, max_length=self.max_length, return_tensors='pt')\n",
    "        encoded_inputs = {k: v.squeeze(0) for k, v in encoded_inputs.items()}\n",
    "        return encoded_inputs\n",
    "        \n",
    "        "
   ]
  },
  {
   "cell_type": "code",
   "execution_count": null,
   "metadata": {},
   "outputs": [],
   "source": [
    "import torch\n",
    "from torch import nn\n",
    "from transformers import BertModel\n",
    "\n",
    "\n",
    "class MyModel(nn.Module):\n",
    "    def __init__(self, out_dim):\n",
    "        super().__init__()\n",
    "        self.bert = BertModel.from_pretrained('bert-base-uncased')\n",
    "\n",
    "        self.layer1 = nn.Linear(768, out_dim)\n",
    "\n",
    "    def forward(self, input_ids, attention_mask):\n",
    "        output = self.bert(input_ids=input_ids, attention_mask=attention_mask)\n",
    "        sentence_emb = output['last_hidden_state'][:, 0, :]  # [batch size, num hidden dim]\n",
    "\n",
    "        return self.layer1(sentence_emb)"
   ]
  },
  {
   "cell_type": "code",
   "execution_count": null,
   "metadata": {},
   "outputs": [],
   "source": [
    "import numpy as np\n",
    "import pandas as pd\n",
    "\n",
    "def infer(model, dataloader):\n",
    "    pred = []\n",
    "    for mini_batch in dataloader:\n",
    "        mini_batch = {k: v.to('cuda') for k, v in mini_batch.items()}\n",
    "        h = model(mini_batch['input_ids'], mini_batch['attention_mask'])\n",
    "\n",
    "        pred.append(h.cpu().detach().numpy())\n",
    "    pred = np.concatenate(pred, 0)\n",
    "    pred = np.argmax(pred, 1)  # [다 숫자]\n",
    "\n",
    "    return pred\n",
    "\n",
    "\n",
    "def topic_inference(model, data_path):\n",
    "    df = pd.read_csv(data_path)\n",
    "    \n",
    "    # load dataloader\n",
    "    dataset = TextDataset(df)\n",
    "    dataloader = DataLoader(dataset, batch_size=64)\n",
    "    \n",
    "    preds = infer(model, dataloader)\n",
    "    topic_list = [\n",
    "        \"1 The particulate nature of matter\",\n",
    "        \"2 Experimental techniques\",\n",
    "        \"3 Atoms, elements and compounds\",\n",
    "        \"4 Stoichiometry\",\n",
    "        \"5 Electricity and chemistry\",\n",
    "        \"6 Chemical energetics\",\n",
    "        \"7 Chemical reactions\",\n",
    "        \"8 Acids, bases and salts\",\n",
    "        \"9 The Periodic Table\",\n",
    "        \"10 Metals\",\n",
    "        \"11 Air and water\",\n",
    "        \"12 Sulfur\",\n",
    "        \"13 Carbonates\",\n",
    "        \"14 Organic chemistry\",\n",
    "      ]\n",
    "    \n",
    "    topic_preds = [topic_list[i] for i in preds]\n",
    "    df['topic'] = topic_preds\n",
    "\n",
    "    return df"
   ]
  },
  {
   "cell_type": "markdown",
   "metadata": {},
   "source": [
    "## Run"
   ]
  },
  {
   "cell_type": "code",
   "execution_count": null,
   "metadata": {},
   "outputs": [],
   "source": [
    "model = MyModel(14)\n",
    "\n",
    "model_path = '/content/drive/MyDrive/models/0.pth'\n",
    "data_path = '../backend/data/data.csv'\n",
    "\n",
    "model.load_state_dict(torch.load(model_path))\n",
    "\n",
    "df = topic_inference(model, data_path)\n",
    "\n",
    "df.to_csv(data_path)"
   ]
  }
 ],
 "metadata": {
  "kernelspec": {
   "display_name": "Python 3.9.10 ('tf-m1')",
   "language": "python",
   "name": "python3"
  },
  "language_info": {
   "name": "python",
   "version": "3.9.10"
  },
  "orig_nbformat": 4,
  "vscode": {
   "interpreter": {
    "hash": "e79170ae290057d802c0bc8323610d82df653b25ece5c46593757efbea4a04e3"
   }
  }
 },
 "nbformat": 4,
 "nbformat_minor": 2
}
